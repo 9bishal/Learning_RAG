{
 "cells": [
  {
   "cell_type": "code",
   "execution_count": 137,
   "id": "e86d8b3e-60ca-411c-a370-b5f44961392a",
   "metadata": {},
   "outputs": [],
   "source": [
    "corpus_of_documents=['Take a leisurely walk in the park and enjoy the fresh air.'\n",
    "'Visit a local museum and discover something new.'\n",
    "'Attend a live music concert and feel the rhythm.'\n",
    "'Go for a hike and admire the natural scenery.',\n",
    "'Have a picnic with friends and share some laughs.',\n",
    "'Explore a new cuisine by dining at an ethnic restaurant.'\n",
    "'Take a yoga class and stretch your body and mind.',\n",
    "'Join a local sports league and enjoy some friendly competition.',\n",
    "\"Attend a workshop or lecture on a topic you're interested in.\",\n",
    "'Visit an amusement park and ride the roller coasters.']"
   ]
  },
  {
   "cell_type": "code",
   "execution_count": 138,
   "id": "bfe27c57-db58-495f-8287-0c8f5ea897be",
   "metadata": {},
   "outputs": [
    {
     "data": {
      "text/plain": [
       "['Take a leisurely walk in the park and enjoy the fresh air.Visit a local museum and discover something new.Attend a live music concert and feel the rhythm.Go for a hike and admire the natural scenery.',\n",
       " 'Have a picnic with friends and share some laughs.',\n",
       " 'Explore a new cuisine by dining at an ethnic restaurant.Take a yoga class and stretch your body and mind.',\n",
       " 'Join a local sports league and enjoy some friendly competition.',\n",
       " \"Attend a workshop or lecture on a topic you're interested in.\",\n",
       " 'Visit an amusement park and ride the roller coasters.']"
      ]
     },
     "execution_count": 138,
     "metadata": {},
     "output_type": "execute_result"
    }
   ],
   "source": [
    "corpus_of_documents"
   ]
  },
  {
   "cell_type": "code",
   "execution_count": 139,
   "id": "adcbc283-6806-4e36-890d-29a45ce23c95",
   "metadata": {},
   "outputs": [],
   "source": [
    "user_query=\"I am an Indian and I lives in India\"\n",
    "document=\"India is a country for Indians and for everyone\""
   ]
  },
  {
   "cell_type": "code",
   "execution_count": 140,
   "id": "b88099f9-0c09-41c6-965e-81af61e6202a",
   "metadata": {},
   "outputs": [],
   "source": [
    "from collections import Counter\n",
    "import math"
   ]
  },
  {
   "cell_type": "code",
   "execution_count": 141,
   "id": "fde1b3cd-4dd0-4b9a-8bdf-5454d8b1c3bb",
   "metadata": {},
   "outputs": [],
   "source": [
    "query_tokens=user_query.lower().split(\" \")"
   ]
  },
  {
   "cell_type": "code",
   "execution_count": 142,
   "id": "aecabb61-461f-4581-9756-b5b9f425e47b",
   "metadata": {},
   "outputs": [
    {
     "data": {
      "text/plain": [
       "['i', 'am', 'an', 'indian', 'and', 'i', 'lives', 'in', 'india']"
      ]
     },
     "execution_count": 142,
     "metadata": {},
     "output_type": "execute_result"
    }
   ],
   "source": [
    "query_tokens"
   ]
  },
  {
   "cell_type": "code",
   "execution_count": 143,
   "id": "83c9c35c-28b4-4e00-9281-c1daf56789e2",
   "metadata": {},
   "outputs": [],
   "source": [
    "document_tokens=document.lower().split(\" \")"
   ]
  },
  {
   "cell_type": "code",
   "execution_count": 144,
   "id": "3caa43e0-c050-4b87-9a93-8e7e58ba3c5c",
   "metadata": {},
   "outputs": [
    {
     "data": {
      "text/plain": [
       "['india', 'is', 'a', 'country', 'for', 'indians', 'and', 'for', 'everyone']"
      ]
     },
     "execution_count": 144,
     "metadata": {},
     "output_type": "execute_result"
    }
   ],
   "source": [
    "document_tokens"
   ]
  },
  {
   "cell_type": "code",
   "execution_count": 145,
   "id": "4c8d8359-684d-486e-9ac4-183bea02fbcd",
   "metadata": {},
   "outputs": [],
   "source": [
    "query_counter=Counter(query_tokens)"
   ]
  },
  {
   "cell_type": "code",
   "execution_count": 146,
   "id": "0271d93e-e89c-427a-81f6-5656b7cf7c80",
   "metadata": {},
   "outputs": [
    {
     "data": {
      "text/plain": [
       "Counter({'i': 2,\n",
       "         'am': 1,\n",
       "         'an': 1,\n",
       "         'indian': 1,\n",
       "         'and': 1,\n",
       "         'lives': 1,\n",
       "         'in': 1,\n",
       "         'india': 1})"
      ]
     },
     "execution_count": 146,
     "metadata": {},
     "output_type": "execute_result"
    }
   ],
   "source": [
    "query_counter"
   ]
  },
  {
   "cell_type": "code",
   "execution_count": 147,
   "id": "09be32e6-df92-4509-a150-395129feb503",
   "metadata": {},
   "outputs": [],
   "source": [
    "document_counter=Counter(document_tokens)"
   ]
  },
  {
   "cell_type": "code",
   "execution_count": 148,
   "id": "9fce26fc-0e57-4e7a-8c52-08b7992dd896",
   "metadata": {},
   "outputs": [
    {
     "data": {
      "text/plain": [
       "Counter({'for': 2,\n",
       "         'india': 1,\n",
       "         'is': 1,\n",
       "         'a': 1,\n",
       "         'country': 1,\n",
       "         'indians': 1,\n",
       "         'and': 1,\n",
       "         'everyone': 1})"
      ]
     },
     "execution_count": 148,
     "metadata": {},
     "output_type": "execute_result"
    }
   ],
   "source": [
    "document_counter"
   ]
  },
  {
   "cell_type": "code",
   "execution_count": 149,
   "id": "69399877-fbe6-4d8e-9e8e-aa8c42150987",
   "metadata": {},
   "outputs": [],
   "source": [
    "lst=[]\n",
    "for token in query_counter.keys():\n",
    "    lst.append(query_counter[token])"
   ]
  },
  {
   "cell_type": "code",
   "execution_count": 150,
   "id": "3bd963b2-3776-492a-931f-a88a7fd1cc2f",
   "metadata": {},
   "outputs": [
    {
     "data": {
      "text/plain": [
       "[2, 1, 1, 1, 1, 1, 1, 1]"
      ]
     },
     "execution_count": 150,
     "metadata": {},
     "output_type": "execute_result"
    }
   ],
   "source": [
    "lst"
   ]
  },
  {
   "cell_type": "code",
   "execution_count": 151,
   "id": "b412a28e-f86d-440d-bb65-896db4c01759",
   "metadata": {},
   "outputs": [],
   "source": [
    "my_list=[]\n",
    "for tokens in query_counter.keys() & document_counter.keys():\n",
    "    my_list.append(query_counter[tokens]*document_counter[tokens])"
   ]
  },
  {
   "cell_type": "code",
   "execution_count": 152,
   "id": "bbb47890-4842-4369-9ba3-ce0d4f465df6",
   "metadata": {},
   "outputs": [
    {
     "data": {
      "text/plain": [
       "[1, 1]"
      ]
     },
     "execution_count": 152,
     "metadata": {},
     "output_type": "execute_result"
    }
   ],
   "source": [
    "my_list"
   ]
  },
  {
   "cell_type": "code",
   "execution_count": 153,
   "id": "c8468da4-dd01-4052-8968-f45e22103371",
   "metadata": {},
   "outputs": [],
   "source": [
    "dot_product=sum(my_list)"
   ]
  },
  {
   "cell_type": "code",
   "execution_count": 154,
   "id": "05ac06d7-a21a-4adc-8eba-59eb8a145567",
   "metadata": {},
   "outputs": [],
   "source": [
    "query_magnitude = math.sqrt(sum(query_counter[token]**2 for token in query_counter))"
   ]
  },
  {
   "cell_type": "code",
   "execution_count": 155,
   "id": "ba172843-0aa1-4ff6-b93f-b23f8c6b4533",
   "metadata": {},
   "outputs": [
    {
     "data": {
      "text/plain": [
       "3.3166247903554"
      ]
     },
     "execution_count": 155,
     "metadata": {},
     "output_type": "execute_result"
    }
   ],
   "source": [
    "query_magnitude"
   ]
  },
  {
   "cell_type": "code",
   "execution_count": 156,
   "id": "2c06a131-db12-49a4-8df1-7fb148e9a748",
   "metadata": {},
   "outputs": [],
   "source": [
    "document_magnitude = math.sqrt(sum(document_counter[token]**2 for token in document_counter))"
   ]
  },
  {
   "cell_type": "code",
   "execution_count": 157,
   "id": "39ffd1d9-5ffc-4633-9bce-40f948eaaacf",
   "metadata": {},
   "outputs": [
    {
     "data": {
      "text/plain": [
       "3.3166247903554"
      ]
     },
     "execution_count": 157,
     "metadata": {},
     "output_type": "execute_result"
    }
   ],
   "source": [
    "document_magnitude"
   ]
  },
  {
   "cell_type": "code",
   "execution_count": 158,
   "id": "ca2f096b-bd8d-4258-9931-6ad5c2d607ba",
   "metadata": {},
   "outputs": [],
   "source": [
    "similarity = (dot_product)/(query_magnitude*document_magnitude)"
   ]
  },
  {
   "cell_type": "code",
   "execution_count": 159,
   "id": "d3eb7965-8e9e-47ba-b9fc-a19518e06e4c",
   "metadata": {},
   "outputs": [
    {
     "data": {
      "text/plain": [
       "0.18181818181818182"
      ]
     },
     "execution_count": 159,
     "metadata": {},
     "output_type": "execute_result"
    }
   ],
   "source": [
    "similarity "
   ]
  },
  {
   "cell_type": "code",
   "execution_count": 160,
   "id": "c9a8efc6-34c3-4595-86de-4d3dc85a4da5",
   "metadata": {},
   "outputs": [],
   "source": [
    "import math\n",
    "from collections import Counter\n",
    "\n",
    "def cosine_similarity(query, document):\n",
    "    \"\"\"\n",
    "    Compute cosine similarity between a query string and a document string.\n",
    "    \"\"\"\n",
    "\n",
    "    # Step 1: Tokenize both query and document into lowercase words\n",
    "    query_tokens = query.lower().split(\" \")\n",
    "    document_tokens = document.lower().split(\" \")\n",
    "\n",
    "    # Step 2: Count frequency of each word in query and document\n",
    "    query_counter = Counter(query_tokens)\n",
    "    document_counter = Counter(document_tokens)\n",
    "\n",
    "    # Step 3: Calculate dot product between query and document vectors\n",
    "    dot_product = sum(query_counter[token] * document_counter[token] \n",
    "                      for token in query_counter.keys())\n",
    "\n",
    "    # Step 4: Calculate magnitude (length) of query and document vectors\n",
    "    query_magnitude = math.sqrt(sum(query_counter[token]**2 \n",
    "                                    for token in query_counter))\n",
    "    document_magnitude = math.sqrt(sum(document_counter[token]**2 \n",
    "                                       for token in document_counter))\n",
    "\n",
    "    # Step 5: Compute cosine similarity\n",
    "    # Formula = dot_product / (|query| * |document|)\n",
    "    similarity = (dot_product / (query_magnitude * document_magnitude) \n",
    "                  if query_magnitude * document_magnitude > 0 else 0.0)\n",
    "\n",
    "    return similarity\n"
   ]
  },
  {
   "cell_type": "code",
   "execution_count": 161,
   "id": "f63abfba-8ac5-4851-9c6c-263849bc1980",
   "metadata": {},
   "outputs": [
    {
     "data": {
      "text/plain": [
       "0.18181818181818182"
      ]
     },
     "execution_count": 161,
     "metadata": {},
     "output_type": "execute_result"
    }
   ],
   "source": [
    "cosine_similarity(user_query, document)"
   ]
  },
  {
   "cell_type": "code",
   "execution_count": 249,
   "id": "a5ccf31d-64cf-44cd-beb5-852a334ab6f3",
   "metadata": {},
   "outputs": [],
   "source": [
    "user_query=\"i will be giving him cuisine\""
   ]
  },
  {
   "cell_type": "code",
   "execution_count": 251,
   "id": "7355a38b-189f-4ea3-8b8d-2eacee352010",
   "metadata": {},
   "outputs": [
    {
     "data": {
      "text/plain": [
       "['Take a leisurely walk in the park and enjoy the fresh air. Visit a local museum and discover something new.',\n",
       " 'Attend a live music concert and feel the rhythm. Go for a hike and admire the natural scenery.',\n",
       " 'Have a picnic with friends and share some laughs.',\n",
       " 'Explore a new cuisine by dining at an ethnic restaurant. Take a yoga class and stretch your body and mind.',\n",
       " 'Join a local sports league and enjoy some friendly competition.',\n",
       " \"Attend a workshop or lecture on a topic you're interested in.\",\n",
       " 'Visit an amusement park and ride the roller coasters.']"
      ]
     },
     "execution_count": 251,
     "metadata": {},
     "output_type": "execute_result"
    }
   ],
   "source": [
    "corpus_of_documents"
   ]
  },
  {
   "cell_type": "code",
   "execution_count": 253,
   "id": "55095885-0ce3-44f3-99d1-f5e2d8e6bc6f",
   "metadata": {},
   "outputs": [
    {
     "name": "stdout",
     "output_type": "stream",
     "text": [
      "Best Match:\n",
      " Explore a new cuisine by dining at an ethnic restaurant. Take a yoga class and stretch your body and mind.\n"
     ]
    }
   ],
   "source": [
    "def return_response(query, corpus_of_documents):\n",
    "    \"\"\"\n",
    "    Returns the most similar document from the corpus\n",
    "    for the given query using cosine similarity.\n",
    "    \"\"\"\n",
    "    similarities = []\n",
    "\n",
    "    # Step 1: Compare query with each document in corpus\n",
    "    for doc in corpus_of_documents:\n",
    "        similarity = cosine_similarity(query, doc)   # fix: spelling & variable mismatch\n",
    "        similarities.append(similarity)\n",
    "\n",
    "    # Step 2: Find the index of the most similar document\n",
    "    best_index = similarities.index(max(similarities))\n",
    "\n",
    "    # Step 3: Return that document\n",
    "    return corpus_of_documents[best_index]\n",
    "\n",
    "\n",
    "# Example Corpus\n",
    "corpus_of_documents = [\n",
    "    'Take a leisurely walk in the park and enjoy the fresh air. Visit a local museum and discover something new.',\n",
    "     'Attend a live music concert and feel the rhythm. Go for a hike and admire the natural scenery.',\n",
    "    'Have a picnic with friends and share some laughs.',\n",
    "    'Explore a new cuisine by dining at an ethnic restaurant. Take a yoga class and stretch your body and mind.',\n",
    "    'Join a local sports league and enjoy some friendly competition.',\n",
    "    \"Attend a workshop or lecture on a topic you're interested in.\",\n",
    "    'Visit an amusement park and ride the roller coasters.'\n",
    "]\n",
    "\n",
    "# Example Query\n",
    "# query = \"I want to do something outdoors with friends\"\n",
    "\n",
    "# Get Best Response\n",
    "best_doc = return_response(user_query, corpus_of_documents)\n",
    "print(\"Best Match:\\n\", best_doc)\n"
   ]
  },
  {
   "cell_type": "code",
   "execution_count": 1,
   "id": "1594e969-6fab-47a0-8d9c-2d603366335d",
   "metadata": {},
   "outputs": [],
   "source": [
    "\n",
    "#will be workign with the ollama on the local system as llm"
   ]
  },
  {
   "cell_type": "code",
   "execution_count": null,
   "id": "5f507b2c-b3f1-4cee-be6e-9f8669d2503a",
   "metadata": {},
   "outputs": [],
   "source": []
  }
 ],
 "metadata": {
  "kernelspec": {
   "display_name": "Python [conda env:base] *",
   "language": "python",
   "name": "conda-base-py"
  },
  "language_info": {
   "codemirror_mode": {
    "name": "ipython",
    "version": 3
   },
   "file_extension": ".py",
   "mimetype": "text/x-python",
   "name": "python",
   "nbconvert_exporter": "python",
   "pygments_lexer": "ipython3",
   "version": "3.12.7"
  }
 },
 "nbformat": 4,
 "nbformat_minor": 5
}
